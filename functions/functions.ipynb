{
 "cells": [
  {
   "attachments": {},
   "cell_type": "markdown",
   "metadata": {},
   "source": [
    "8-1. Message:"
   ]
  },
  {
   "cell_type": "code",
   "execution_count": 16,
   "metadata": {},
   "outputs": [
    {
     "name": "stdout",
     "output_type": "stream",
     "text": [
      "Hello, i'm learning how to declare and call functions in the function chapter.\n"
     ]
    }
   ],
   "source": [
    "def display_message():\n",
    "    print(\"Hello, i'm learning how to declare and call functions in the function chapter.\")\n",
    "\n",
    "display_message()"
   ]
  },
  {
   "attachments": {},
   "cell_type": "markdown",
   "metadata": {},
   "source": [
    "8-2. Favorite Book:"
   ]
  },
  {
   "cell_type": "code",
   "execution_count": 17,
   "metadata": {},
   "outputs": [
    {
     "name": "stdout",
     "output_type": "stream",
     "text": [
      "One of my favorite books is Jiki Magayi.\n"
     ]
    }
   ],
   "source": [
    "def favorite_book(title):\n",
    "    \"\"\"This function accept and return title of a favourite book\"\"\"\n",
    "    print(f'One of my favorite books is {title}.')\n",
    "\n",
    "favorite_book('Jiki Magayi')"
   ]
  },
  {
   "attachments": {},
   "cell_type": "markdown",
   "metadata": {},
   "source": [
    "8-3. T-Shirt:"
   ]
  },
  {
   "cell_type": "code",
   "execution_count": 11,
   "metadata": {},
   "outputs": [
    {
     "name": "stdout",
     "output_type": "stream",
     "text": [
      "A shirt of  size large and Messi written at the back.\n",
      "A shirt of  size medium and Gavi written at the back.\n"
     ]
    }
   ],
   "source": [
    "def make_shirt(size, text):\n",
    "    \"\"\"This function accept size of a shirt and text to be written at the shirt\"\"\"\n",
    "    print(f'A shirt of  size {size} and {text} written at the back.')\n",
    "\n",
    "make_shirt('large', 'Messi')\n",
    "make_shirt(text='Gavi', size='medium')"
   ]
  },
  {
   "attachments": {},
   "cell_type": "markdown",
   "metadata": {},
   "source": [
    "8-4. Large Shirts:"
   ]
  },
  {
   "cell_type": "code",
   "execution_count": 15,
   "metadata": {},
   "outputs": [
    {
     "name": "stdout",
     "output_type": "stream",
     "text": [
      "A large shirt with I love Python written on it.\n",
      "A medium shirt with I love Python written on it.\n",
      "A small shirt with I love Coding written on it.\n"
     ]
    }
   ],
   "source": [
    "def make_shirt(size='large', text='I love Python'):\n",
    "    print(f'A {size} shirt with {text} written on it.')\n",
    "\n",
    "make_shirt()\n",
    "make_shirt('medium')\n",
    "make_shirt('small', 'I love Coding')"
   ]
  },
  {
   "attachments": {},
   "cell_type": "markdown",
   "metadata": {},
   "source": [
    "8-5. Cities:"
   ]
  },
  {
   "cell_type": "code",
   "execution_count": 21,
   "metadata": {},
   "outputs": [
    {
     "name": "stdout",
     "output_type": "stream",
     "text": [
      "Kano is in Nigeria.\n",
      "Lagos is in Nigeria.\n",
      "Casablanka is in Morocco.\n"
     ]
    }
   ],
   "source": [
    "def describe_city(city, country='Nigeria'):\n",
    "    \"\"\"This function accept city name and a country name,\n",
    "        but it has a default country name.\"\"\"\n",
    "    print(f'{city} is in {country}.')\n",
    "\n",
    "describe_city('Kano')\n",
    "describe_city('Lagos')\n",
    "describe_city('Casablanka', 'Morocco')"
   ]
  },
  {
   "attachments": {},
   "cell_type": "markdown",
   "metadata": {},
   "source": [
    "8-6. City Names:"
   ]
  },
  {
   "cell_type": "code",
   "execution_count": 24,
   "metadata": {},
   "outputs": [
    {
     "name": "stdout",
     "output_type": "stream",
     "text": [
      "\"Nairobi, Kenya\"\n",
      "\"Baghdad, Iraq\"\n",
      "\"Rome, Italy\"\n"
     ]
    }
   ],
   "source": [
    "def city_country(city, country):\n",
    "    return f'\"{city}, {country}\"'\n",
    "\n",
    "print(city_country('Nairobi', 'Kenya'))\n",
    "print(city_country('Baghdad', 'Iraq'))\n",
    "print(city_country('Rome', 'Italy'))"
   ]
  },
  {
   "attachments": {},
   "cell_type": "markdown",
   "metadata": {},
   "source": [
    "8-7. Album:"
   ]
  },
  {
   "cell_type": "code",
   "execution_count": 30,
   "metadata": {},
   "outputs": [
    {
     "name": "stdout",
     "output_type": "stream",
     "text": [
      "{'artist_name': 'Halsey', 'album_title': \"If I Can't Have Love, I Want Power\"}\n",
      "{'artist_name': 'Yola', 'album_title': 'Stand For Myself', 'no_of_songs': 12}\n",
      "{'artist_name': 'Doja Cat', 'album_title': 'Planet Her'}\n"
     ]
    }
   ],
   "source": [
    "def make_album(artist_name, album_title, no_of_songs=None):\n",
    "    music_album = {'artist_name' : artist_name, 'album_title' : album_title}\n",
    "    if no_of_songs:\n",
    "        music_album['no_of_songs'] = no_of_songs\n",
    "    return music_album\n",
    "\n",
    "print(make_album('Halsey', \"If I Can't Have Love, I Want Power\"))\n",
    "print(make_album('Yola', 'Stand For Myself', 12))\n",
    "print(make_album('Doja Cat', 'Planet Her'))"
   ]
  },
  {
   "attachments": {},
   "cell_type": "markdown",
   "metadata": {},
   "source": [
    "8-8. User Albums:"
   ]
  },
  {
   "cell_type": "code",
   "execution_count": 31,
   "metadata": {},
   "outputs": [
    {
     "name": "stdout",
     "output_type": "stream",
     "text": [
      "{'artist_name': 'Doja Cat', 'album_title': 'Planet Her'}\n",
      "{'artist_name': 'Hamisu Breaker', 'album_title': 'Jaruma'}\n"
     ]
    }
   ],
   "source": [
    "def make_album(artist_name, album_title):\n",
    "    music_album = {'artist_name' : artist_name, 'album_title' : album_title}\n",
    "    return music_album\n",
    "\n",
    "while make_album:\n",
    "    artist_name = input('Enter artist name: ')\n",
    "    album_title = input('Enter album title: ')\n",
    "    if artist_name == \"quit\" or album_title == \"quit\":\n",
    "        break\n",
    "    print(make_album(artist_name, album_title))"
   ]
  },
  {
   "attachments": {},
   "cell_type": "markdown",
   "metadata": {},
   "source": [
    "8-9. Messages:"
   ]
  },
  {
   "cell_type": "code",
   "execution_count": 1,
   "metadata": {},
   "outputs": [
    {
     "name": "stdout",
     "output_type": "stream",
     "text": [
      "print\n",
      "message\n",
      "from\n",
      "the\n",
      "function\n"
     ]
    }
   ],
   "source": [
    "def show_messages(lst):\n",
    "    for msg in lst:\n",
    "        print(msg)\n",
    "\n",
    "lst = ['print', 'message', 'from', 'the', 'function']\n",
    "show_messages(lst)"
   ]
  },
  {
   "attachments": {},
   "cell_type": "markdown",
   "metadata": {},
   "source": [
    "8-10. Sending Messages:"
   ]
  },
  {
   "cell_type": "code",
   "execution_count": 34,
   "metadata": {},
   "outputs": [
    {
     "name": "stdout",
     "output_type": "stream",
     "text": [
      "printing message: print\n",
      "printing message: message\n",
      "printing message: from\n",
      "printing message: the\n",
      "printing message: function\n",
      "\n",
      "lst = []\n",
      "\n",
      "The sent messages:\n",
      "print\n",
      "message\n",
      "from\n",
      "the\n",
      "function\n"
     ]
    }
   ],
   "source": [
    "def send_messages(lst, sent_messages):\n",
    "    while lst:\n",
    "        msg = lst.pop(0)\n",
    "        print(f'printing message: {msg}')\n",
    "        sent_messages.append(msg)\n",
    "    \n",
    "def print_msg(sent_messages):\n",
    "    print(f'\\nlst = {lst}')\n",
    "    print('\\nThe sent messages:')\n",
    "    for i in sent_messages:\n",
    "        print(i)\n",
    "\n",
    "\n",
    "lst = ['print', 'message', 'from', 'the', 'function']\n",
    "sent_messages = []\n",
    "send_messages(lst, sent_messages)\n",
    "print_msg(sent_messages)\n"
   ]
  },
  {
   "attachments": {},
   "cell_type": "markdown",
   "metadata": {},
   "source": [
    "8-11. Archived Messages:"
   ]
  },
  {
   "cell_type": "code",
   "execution_count": 35,
   "metadata": {},
   "outputs": [
    {
     "name": "stdout",
     "output_type": "stream",
     "text": [
      "printing message: print\n",
      "printing message: message\n",
      "printing message: from\n",
      "printing message: the\n",
      "printing message: function\n",
      "\n",
      "lst = ['print', 'message', 'from', 'the', 'function']\n",
      "\n",
      "The sent messages:\n",
      "print\n",
      "message\n",
      "from\n",
      "the\n",
      "function\n"
     ]
    }
   ],
   "source": [
    "def send_messages(lst, sent_messages):\n",
    "    while lst:\n",
    "        msg = lst.pop(0)\n",
    "        print(f'printing message: {msg}')\n",
    "        sent_messages.append(msg)\n",
    "\n",
    "def print_msg(sent_messages):\n",
    "    print(f'\\nlst = {lst}')\n",
    "    print('\\nThe sent messages:')\n",
    "    for i in sent_messages:\n",
    "        print(i)\n",
    "\n",
    "lst = ['print', 'message', 'from', 'the', 'function']\n",
    "sent_messages = []\n",
    "send_messages(lst[:], sent_messages)\n",
    "print_msg(sent_messages)\n"
   ]
  },
  {
   "attachments": {},
   "cell_type": "markdown",
   "metadata": {},
   "source": [
    "8-12. Sandwiches:"
   ]
  },
  {
   "cell_type": "code",
   "execution_count": 38,
   "metadata": {},
   "outputs": [
    {
     "name": "stdout",
     "output_type": "stream",
     "text": [
      "\n",
      "This Sandwich contains:\n",
      "Onion\n",
      "Garlic\n",
      "Chees\n",
      "Tomator\n",
      "\n",
      "This Sandwich contains:\n",
      "Tomator\n",
      "Onion\n",
      "Beef\n",
      "\n",
      "This Sandwich contains:\n",
      "Garlic\n",
      "Chicken\n",
      "Chees\n"
     ]
    }
   ],
   "source": [
    "def sandwiches(*items):\n",
    "    print('\\nThis Sandwich contains:')\n",
    "    for item in items:\n",
    "        print(item)\n",
    "\n",
    "sandwiches('Onion', 'Garlic', 'Chees', 'Tomator')\n",
    "sandwiches('Tomator', 'Onion', 'Beef')\n",
    "sandwiches('Garlic', 'Chicken', 'Chees')"
   ]
  },
  {
   "attachments": {},
   "cell_type": "markdown",
   "metadata": {},
   "source": [
    "8-13. User Profile:"
   ]
  },
  {
   "cell_type": "code",
   "execution_count": 39,
   "metadata": {},
   "outputs": [
    {
     "name": "stdout",
     "output_type": "stream",
     "text": [
      "{'location': 'Kano', 'field': 'Data Science', 'academy': 'Arewa DataSc', 'first_name': 'Auwal', 'last_name': 'Sulaiman'}\n"
     ]
    }
   ],
   "source": [
    "def build_profile(first, last, **user_info):\n",
    "    user_info['first_name'] = first\n",
    "    user_info['last_name'] = last\n",
    "    return user_info\n",
    "\n",
    "user_profile = build_profile('Auwal', 'Sulaiman',\n",
    "location='Kano',\n",
    "field='Data Science',\n",
    "academy='Arewa DataSc')\n",
    "print(user_profile)"
   ]
  },
  {
   "attachments": {},
   "cell_type": "markdown",
   "metadata": {},
   "source": [
    "8-14. Cars:"
   ]
  },
  {
   "cell_type": "code",
   "execution_count": 41,
   "metadata": {},
   "outputs": [
    {
     "name": "stdout",
     "output_type": "stream",
     "text": [
      "{'color': 'blue', 'tow_package': True, 'manufacturer': 'Honda', 'model_name': 'Anaconda'}\n"
     ]
    }
   ],
   "source": [
    "def make_car(manufacturer, model_name, **car_info):\n",
    "    car_info['manufacturer'] = manufacturer\n",
    "    car_info['model_name'] = model_name\n",
    "    return car_info\n",
    "\n",
    "car = make_car('Honda', 'Anaconda',\n",
    "    color='blue', tow_package=True\n",
    ")\n",
    "print(car)"
   ]
  },
  {
   "attachments": {},
   "cell_type": "markdown",
   "metadata": {},
   "source": [
    "8-15. Printing Models:"
   ]
  },
  {
   "cell_type": "code",
   "execution_count": 59,
   "metadata": {},
   "outputs": [
    {
     "name": "stdout",
     "output_type": "stream",
     "text": [
      "My name is khalifa and One of my favorite meal is rice and beans.\n"
     ]
    }
   ],
   "source": [
    "import printing_functions \n",
    "\n",
    "printing_functions.favourite_meal('khalifa', 'rice and beans')"
   ]
  },
  {
   "attachments": {},
   "cell_type": "markdown",
   "metadata": {},
   "source": [
    "8-16. Imports:"
   ]
  },
  {
   "cell_type": "code",
   "execution_count": 60,
   "metadata": {},
   "outputs": [
    {
     "name": "stdout",
     "output_type": "stream",
     "text": [
      "Martin King Lurther\n"
     ]
    }
   ],
   "source": [
    "import my_module\n",
    "\n",
    "print(my_module.full_name('Martin', 'Lurther', 'King'))"
   ]
  },
  {
   "cell_type": "code",
   "execution_count": 61,
   "metadata": {},
   "outputs": [
    {
     "name": "stdout",
     "output_type": "stream",
     "text": [
      "Muhammadu Buhari\n"
     ]
    }
   ],
   "source": [
    "from my_module import full_name\n",
    "\n",
    "print(full_name('Muhammadu', 'Buhari'))"
   ]
  },
  {
   "cell_type": "code",
   "execution_count": 62,
   "metadata": {},
   "outputs": [
    {
     "name": "stdout",
     "output_type": "stream",
     "text": [
      "Godwin Emiefele\n"
     ]
    }
   ],
   "source": [
    "from my_module import full_name as fn\n",
    "\n",
    "print(fn('Godwin', 'Emiefele'))\n"
   ]
  },
  {
   "cell_type": "code",
   "execution_count": 64,
   "metadata": {},
   "outputs": [
    {
     "name": "stdout",
     "output_type": "stream",
     "text": [
      "Malam Elrufai Nasir\n"
     ]
    }
   ],
   "source": [
    "import my_module as mn\n",
    "\n",
    "print(mn.full_name('Malam','Nasir', 'Elrufai'))"
   ]
  },
  {
   "cell_type": "code",
   "execution_count": 65,
   "metadata": {},
   "outputs": [
    {
     "name": "stdout",
     "output_type": "stream",
     "text": [
      "Auwal Sulaiman Auwal\n"
     ]
    }
   ],
   "source": [
    "from my_module import *\n",
    "\n",
    "print(full_name('Auwal', 'Auwal', 'Sulaiman'))"
   ]
  },
  {
   "attachments": {},
   "cell_type": "markdown",
   "metadata": {},
   "source": [
    "8-17. Styling Functions:"
   ]
  },
  {
   "cell_type": "code",
   "execution_count": null,
   "metadata": {},
   "outputs": [],
   "source": [
    "def favorite_book(title):\n",
    "    \"\"\"This function accept and return title of a favourite book\"\"\"\n",
    "    print(f'One of my favorite books is {title}.')\n",
    "\n",
    "favorite_book('Jiki Magayi')\n",
    "\n",
    "def make_shirt(size, text):\n",
    "    \"\"\"This function accept size of a shirt and text to be written at the shirt\"\"\"\n",
    "    print(f'A shirt of  size {size} and {text} written at the back.')\n",
    "\n",
    "make_shirt('large', 'Messi')\n",
    "make_shirt(text='Gavi', size='medium')\n",
    "\n",
    "def describe_city(city, country='Nigeria'):\n",
    "    \"\"\"This function accept city name and a country name,\n",
    "        but it has a default country name.\"\"\"\n",
    "    print(f'{city} is in {country}.')\n",
    "\n",
    "describe_city('Kano')\n",
    "describe_city('Lagos')\n",
    "describe_city('Casablanka', 'Morocco')"
   ]
  }
 ],
 "metadata": {
  "kernelspec": {
   "display_name": "base",
   "language": "python",
   "name": "python3"
  },
  "language_info": {
   "codemirror_mode": {
    "name": "ipython",
    "version": 3
   },
   "file_extension": ".py",
   "mimetype": "text/x-python",
   "name": "python",
   "nbconvert_exporter": "python",
   "pygments_lexer": "ipython3",
   "version": "3.9.13 (main, Aug 25 2022, 23:26:10) \n[GCC 11.2.0]"
  },
  "orig_nbformat": 4,
  "vscode": {
   "interpreter": {
    "hash": "cb1d2d89cb7c6a69a81de6a0cd8c1e2ebe2646f633b514a8a7f5dd3287604553"
   }
  }
 },
 "nbformat": 4,
 "nbformat_minor": 2
}
