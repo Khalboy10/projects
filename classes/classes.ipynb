{
 "cells": [
  {
   "cell_type": "markdown",
   "metadata": {},
   "source": [
    "9-1. Restaurant:"
   ]
  },
  {
   "cell_type": "code",
   "execution_count": 8,
   "metadata": {},
   "outputs": [
    {
     "name": "stdout",
     "output_type": "stream",
     "text": [
      "Gusto\n",
      "Foriegn Salad\n",
      "Restaurant name is Gusto and cuisine name is Foriegn Salad.\n",
      "The Restaurant is open.\n"
     ]
    }
   ],
   "source": [
    "class Restaurant:\n",
    "    def __init__(self, restaurant_name, cuisine_type):\n",
    "        self.restaurant_name = restaurant_name\n",
    "        self.cuisine_type = cuisine_type\n",
    "\n",
    "    def describe_restaurant(self):\n",
    "        print(f'Restaurant name is {self.restaurant_name} and cuisine name is {self.cuisine_type}.')\n",
    "\n",
    "    def open_restaurant(self):\n",
    "        print('The Restaurant is open.')\n",
    "    \n",
    "restaurant = Restaurant('Gusto', 'Foriegn Salad')\n",
    "print(restaurant.restaurant_name)\n",
    "print(restaurant.cuisine_type)\n",
    "restaurant.describe_restaurant()\n",
    "restaurant.open_restaurant()"
   ]
  },
  {
   "attachments": {},
   "cell_type": "markdown",
   "metadata": {},
   "source": [
    "9-2. Three Restaurants:"
   ]
  },
  {
   "cell_type": "code",
   "execution_count": 9,
   "metadata": {},
   "outputs": [
    {
     "name": "stdout",
     "output_type": "stream",
     "text": [
      "Restaurant name is Gusto and cuisine name is Foriegn Salad.\n",
      "Restaurant name is Yakass and cuisine name is Traditional.\n",
      "Restaurant name is Chicken Republic and cuisine name is Fried Rice.\n"
     ]
    }
   ],
   "source": [
    "class Restaurant:\n",
    "    def __init__(self, restaurant_name, cuisine_type):\n",
    "        self.restaurant_name = restaurant_name\n",
    "        self.cuisine_type = cuisine_type\n",
    "\n",
    "    def describe_restaurant(self):\n",
    "        print(f'Restaurant name is {self.restaurant_name} and cuisine name is {self.cuisine_type}.')\n",
    "\n",
    "    def open_restaurant(self):\n",
    "        print('The Restaurant is open.')\n",
    "    \n",
    "restaurant1 = Restaurant('Gusto', 'Foriegn Salad')\n",
    "restaurant2 = Restaurant('Yakass', 'Traditional')\n",
    "restaurant3 = Restaurant('Chicken Republic', 'Fried Rice')\n",
    "\n",
    "restaurant1.describe_restaurant()\n",
    "restaurant2.describe_restaurant()\n",
    "restaurant3.describe_restaurant()"
   ]
  },
  {
   "attachments": {},
   "cell_type": "markdown",
   "metadata": {},
   "source": [
    "9-3. Users:"
   ]
  },
  {
   "cell_type": "code",
   "execution_count": 13,
   "metadata": {},
   "outputs": [
    {
     "name": "stdout",
     "output_type": "stream",
     "text": [
      "{'AKA': 'GOAT', 'gender': 'male', 'age': 36, 'first_name': 'lionel', 'last_name': 'messi'}\n",
      "Good day lionel messi.\n",
      "{'gender': 'female', 'first_name': 'Aishatu', 'last_name': 'Binani'}\n",
      "Good day Aishatu Binani.\n"
     ]
    }
   ],
   "source": [
    "class User:\n",
    "    def __init__(self, f_name, l_name, **user_pro):\n",
    "        self.f_name = f_name\n",
    "        self.l_name = l_name\n",
    "        self.user_pro = user_pro\n",
    "        self.user_pro['first_name'] = f_name\n",
    "        self.user_pro['last_name'] = l_name\n",
    "\n",
    "    def describe_user(self):\n",
    "        print(self.user_pro)\n",
    "\n",
    "    def greet_user(self):\n",
    "        print(f'Good day {self.f_name} {self.l_name}.')\n",
    "\n",
    "him = User('lionel', 'messi', AKA='GOAT',gender='male', age=36)\n",
    "him.describe_user()\n",
    "him.greet_user()\n",
    "\n",
    "her = User('Aishatu', 'Binani', gender='female')\n",
    "her.describe_user()\n",
    "her.greet_user()"
   ]
  },
  {
   "attachments": {},
   "cell_type": "markdown",
   "metadata": {},
   "source": [
    "9-4. Number Served:"
   ]
  },
  {
   "cell_type": "code",
   "execution_count": 16,
   "metadata": {},
   "outputs": [
    {
     "name": "stdout",
     "output_type": "stream",
     "text": [
      "21\n",
      "56\n",
      "we served 135 customers today.\n"
     ]
    }
   ],
   "source": [
    "class Restaurant:\n",
    "    def __init__(self, restaurant_name, cuisine_type):\n",
    "        self.restaurant_name = restaurant_name\n",
    "        self.cuisine_type = cuisine_type\n",
    "        self.number_served = 0\n",
    "\n",
    "    def describe_restaurant(self):\n",
    "        print(f'Restaurant name is {self.restaurant_name} and cuisine name is {self.cuisine_type}.')\n",
    "\n",
    "    def open_restaurant(self):\n",
    "        print('The Restaurant is open.')\n",
    "\n",
    "    def set_number_served(self):\n",
    "        self.number_served = 56\n",
    "        return self.number_served\n",
    "    \n",
    "    def increment_number_served(self, person_served):\n",
    "        self.number_served += person_served\n",
    "        return f'we served {self.number_served} customers today.'\n",
    "\n",
    "restaurant = Restaurant('Gusto', 'Pizza')\n",
    "restaurant.number_served = 21\n",
    "print(restaurant.number_served)\n",
    "\n",
    "print(restaurant.set_number_served())\n",
    "print(restaurant.increment_number_served(79))\n"
   ]
  },
  {
   "attachments": {},
   "cell_type": "markdown",
   "metadata": {},
   "source": [
    "9-5. Login Attempts:"
   ]
  },
  {
   "cell_type": "code",
   "execution_count": 21,
   "metadata": {},
   "outputs": [
    {
     "name": "stdout",
     "output_type": "stream",
     "text": [
      "3\n",
      "0\n"
     ]
    }
   ],
   "source": [
    "class User:\n",
    "    def __init__(self, f_name, l_name, **user_pro):\n",
    "        self.f_name = f_name\n",
    "        self.l_name = l_name\n",
    "        self.user_pro = user_pro\n",
    "        self.user_pro['first_name'] = f_name\n",
    "        self.user_pro['last_name'] = l_name\n",
    "        self.login_attempts = 0\n",
    "\n",
    "    def describe_user(self):\n",
    "        print(self.user_pro)\n",
    "\n",
    "    def greet_user(self):\n",
    "        print(f'Good day {self.f_name} {self.l_name}.')\n",
    "\n",
    "    def increment_login_attempts(self):\n",
    "        self.login_attempts += 1\n",
    "\n",
    "    def reset_login_attempts(self):\n",
    "        self.login_attempts = 0\n",
    "\n",
    "user = User('Khalifa', 'Khalil')\n",
    "user.increment_login_attempts()\n",
    "user.increment_login_attempts()\n",
    "user.increment_login_attempts()\n",
    "print(user.login_attempts)\n",
    "\n",
    "user.reset_login_attempts()\n",
    "print(user.login_attempts)\n"
   ]
  },
  {
   "attachments": {},
   "cell_type": "markdown",
   "metadata": {},
   "source": [
    "9-6. Ice Cream Stand:"
   ]
  },
  {
   "cell_type": "code",
   "execution_count": 32,
   "metadata": {},
   "outputs": [
    {
     "name": "stdout",
     "output_type": "stream",
     "text": [
      "Vanilla\n",
      "Strawberry\n",
      "Chocolate\n",
      "Banana\n"
     ]
    }
   ],
   "source": [
    "class IceCreamStand(Restaurant):\n",
    "    def __init__(self, restaurant_name, cuisine_type, *flavors):\n",
    "        super().__init__(restaurant_name, cuisine_type)\n",
    "        self.flavors = flavors\n",
    "\n",
    "    def display_flavors(self):\n",
    "        for flavor in self.flavors:\n",
    "            print(flavor)\n",
    "\n",
    "my_iceCream = IceCreamStand('Gusto', 'Ice cream', 'Vanilla', 'Strawberry', 'Chocolate', 'Banana')\n",
    "my_iceCream.display_flavors()"
   ]
  },
  {
   "attachments": {},
   "cell_type": "markdown",
   "metadata": {},
   "source": [
    "9-7. Admin:"
   ]
  },
  {
   "cell_type": "code",
   "execution_count": 36,
   "metadata": {},
   "outputs": [
    {
     "name": "stdout",
     "output_type": "stream",
     "text": [
      "can add post\n",
      "can delete post\n",
      "can ban user\n"
     ]
    }
   ],
   "source": [
    "class Admin(User):\n",
    "    def __init__(self, f_name, l_name, *privileges, **user_pro):\n",
    "        super().__init__(f_name, l_name, **user_pro)\n",
    "        self.privilages = privileges\n",
    "        \n",
    "    def show_privileges(self):\n",
    "        for privilage in self.privilages:\n",
    "            print(privilage)\n",
    "\n",
    "user_a = Admin('Auwal', 'Sulaiman', \"can add post\", \"can delete post\", \"can ban user\", rank='Admin')\n",
    "user_a.show_privileges()"
   ]
  },
  {
   "attachments": {},
   "cell_type": "markdown",
   "metadata": {},
   "source": [
    "9-8. Privileges:"
   ]
  },
  {
   "cell_type": "code",
   "execution_count": 39,
   "metadata": {},
   "outputs": [
    {
     "name": "stdout",
     "output_type": "stream",
     "text": [
      "can add post\n",
      "can delete post\n",
      "can ban user\n"
     ]
    }
   ],
   "source": [
    "class Privileges:\n",
    "    def __init__(self, privileges=(\"can add post\", \"can delete post\", \"can ban user\")):\n",
    "        self.privilages = privileges\n",
    "   \n",
    "    def show_privileges(self):\n",
    "        for privilage in self.privilages:\n",
    "            print(privilage)\n",
    "\n",
    "class Admin(User):\n",
    "    def __init__(self, f_name, l_name, **user_pro):\n",
    "        super().__init__(f_name, l_name, **user_pro)\n",
    "        self.privilage = Privileges()\n",
    "\n",
    "user_b = Admin('Auwal', 'Sulaiman', rank='Admin')\n",
    "user_b.privilage.show_privileges()"
   ]
  },
  {
   "attachments": {},
   "cell_type": "markdown",
   "metadata": {},
   "source": [
    "9-9. Battery Upgrade:"
   ]
  },
  {
   "cell_type": "code",
   "execution_count": 46,
   "metadata": {},
   "outputs": [
    {
     "name": "stdout",
     "output_type": "stream",
     "text": [
      "This car can go about 260 miles on a full charge.\n",
      "This car can go about 315 miles on a full charge.\n"
     ]
    }
   ],
   "source": [
    "class Car:\n",
    "    def __init__(self, make, model, year):\n",
    "        self.make = make\n",
    "        self.model = model\n",
    "        self.year = year\n",
    "        self.odometer_reading = 0\n",
    "\n",
    "class Battery:\n",
    "    def __init__(self, battery_size=75):\n",
    "        self.battery_size = battery_size\n",
    "    \n",
    "    def describe_battery(self):\n",
    "        print(f\"This car has a {self.battery_size}-kWh battery.\")\n",
    "\n",
    "    def get_range(self):\n",
    "        if self.battery_size == 75:\n",
    "            range = 260\n",
    "        elif self.battery_size == 100:\n",
    "            range = 315\n",
    "        print(f\"This car can go about {range} miles on a full charge.\")\n",
    "    \n",
    "    def upgrade_battery(self):\n",
    "        if self.battery_size != 100:\n",
    "            self.battery_size = 100\n",
    "\n",
    "class ElectricCar(Car):\n",
    "    def __init__(self, make, model, year):\n",
    "        super().__init__(make, model, year)\n",
    "        self.battery = Battery()\n",
    "\n",
    "my_tesla = ElectricCar('tesla', 'model s', 2019)\n",
    "my_tesla.battery.get_range()\n",
    "my_tesla.battery.upgrade_battery()\n",
    "my_tesla.battery.get_range()"
   ]
  },
  {
   "attachments": {},
   "cell_type": "markdown",
   "metadata": {},
   "source": [
    "exerices 9-10, 9-11 and 9-12 are in importing.ipynb file"
   ]
  },
  {
   "attachments": {},
   "cell_type": "markdown",
   "metadata": {},
   "source": [
    "9-13. Dice:"
   ]
  },
  {
   "cell_type": "code",
   "execution_count": 5,
   "metadata": {},
   "outputs": [
    {
     "name": "stdout",
     "output_type": "stream",
     "text": [
      "4\n",
      "2\n",
      "4\n",
      "1\n",
      "5\n",
      "2\n",
      "3\n",
      "2\n",
      "4\n",
      "5\n",
      "4\n",
      "3\n",
      "10\n",
      "9\n",
      "3\n",
      "4\n",
      "6\n",
      "10\n",
      "8\n",
      "6\n",
      "13\n",
      "5\n",
      "20\n",
      "1\n",
      "18\n",
      "11\n",
      "7\n",
      "18\n",
      "15\n",
      "1\n"
     ]
    }
   ],
   "source": [
    "from random import *\n",
    "\n",
    "class Die:\n",
    "    def __init__(self, sides=6):\n",
    "        self.sides = sides\n",
    "\n",
    "    def roll_die(self):\n",
    "        for i in range(10):\n",
    "            print(randint(1, self.sides))\n",
    "\n",
    "a_die = Die()\n",
    "a_die.roll_die()\n",
    "\n",
    "b_die = Die(10)\n",
    "b_die.roll_die()\n",
    "\n",
    "b_die = Die(20)\n",
    "b_die.roll_die()"
   ]
  },
  {
   "attachments": {},
   "cell_type": "markdown",
   "metadata": {},
   "source": [
    "9-14. Lottery:"
   ]
  },
  {
   "cell_type": "code",
   "execution_count": 10,
   "metadata": {},
   "outputs": [
    {
     "name": "stdout",
     "output_type": "stream",
     "text": [
      "Ant ticket matching 20DBC wins a prize.\n"
     ]
    }
   ],
   "source": [
    "from random import *\n",
    "\n",
    "lst = [1, 2, 3, 7, 8, 9, 14, 15, 16, 20, 'A', 'B', 'C', 'D', 'E']\n",
    "win = ''\n",
    "for i in range(4):\n",
    "    win += str(choice(lst))\n",
    "print(f'Ant ticket matching {win} wins a prize.')"
   ]
  },
  {
   "attachments": {},
   "cell_type": "markdown",
   "metadata": {},
   "source": [
    "9-15. Lottery Analysis:"
   ]
  },
  {
   "cell_type": "code",
   "execution_count": null,
   "metadata": {},
   "outputs": [],
   "source": [
    "my_ticket = '215AE'\n",
    "count = 0\n",
    "\n",
    "while my_ticket != win:\n",
    "    count += 1\n",
    "print(f'The loop run {count} times to get winning ticket.')"
   ]
  }
 ],
 "metadata": {
  "kernelspec": {
   "display_name": "Python 3",
   "language": "python",
   "name": "python3"
  },
  "language_info": {
   "codemirror_mode": {
    "name": "ipython",
    "version": 3
   },
   "file_extension": ".py",
   "mimetype": "text/x-python",
   "name": "python",
   "nbconvert_exporter": "python",
   "pygments_lexer": "ipython3",
   "version": "3.11.0rc1"
  },
  "orig_nbformat": 4,
  "vscode": {
   "interpreter": {
    "hash": "ead1b95f633dc9c51826328e1846203f51a198c6fb5f2884a80417ba131d4e82"
   }
  }
 },
 "nbformat": 4,
 "nbformat_minor": 2
}
